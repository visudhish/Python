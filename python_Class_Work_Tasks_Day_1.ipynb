{
  "nbformat": 4,
  "nbformat_minor": 0,
  "metadata": {
    "colab": {
      "provenance": [],
      "authorship_tag": "ABX9TyOrjoQnvGM8SfHqi9z7x/5i",
      "include_colab_link": true
    },
    "kernelspec": {
      "name": "python3",
      "display_name": "Python 3"
    },
    "language_info": {
      "name": "python"
    }
  },
  "cells": [
    {
      "cell_type": "markdown",
      "metadata": {
        "id": "view-in-github",
        "colab_type": "text"
      },
      "source": [
        "<a href=\"https://colab.research.google.com/github/visudhish/Python/blob/main/python_Class_Work_Tasks_Day_1.ipynb\" target=\"_parent\"><img src=\"https://colab.research.google.com/assets/colab-badge.svg\" alt=\"Open In Colab\"/></a>"
      ]
    },
    {
      "cell_type": "markdown",
      "source": [
        "Task 1: Write a Python program that takes two integers as input and performs the following operations:\n",
        "\n",
        "Addition\n",
        "\n",
        "Subtraction\n",
        "\n",
        "Multiplication\n",
        "\n",
        "Division"
      ],
      "metadata": {
        "id": "zbyISnJahE--"
      }
    },
    {
      "cell_type": "code",
      "execution_count": null,
      "metadata": {
        "colab": {
          "base_uri": "https://localhost:8080/"
        },
        "id": "sh4f34WjMTnb",
        "outputId": "2d97331c-f90d-424a-fa47-f6f40efd8a19"
      },
      "outputs": [
        {
          "output_type": "stream",
          "name": "stdout",
          "text": [
            "enter a number:4\n",
            "enter a number:2\n",
            "6 is the output.\n",
            "2 is the output\n",
            "8 is the output\n",
            "16 is the output\n"
          ]
        }
      ],
      "source": [
        "int1 = int(input(\"enter a number:\"))\n",
        "int2 = int(input(\"enter a number:\"))\n",
        "print(int1 + int2, \"is the output.\")\n",
        "print(int1-int2,\"is the output\")\n",
        "print(int1 * int2,\"is the output\")\n",
        "print(int1 % int2,\"is the output\")"
      ]
    },
    {
      "cell_type": "markdown",
      "source": [
        "Task 2: Write a Python program that takes a number as input and checks whether the number is even or odd using conditional statements.\n",
        "\n",
        "Expected Input:\n",
        "\n",
        "Number: 15\n",
        "\n",
        "\n",
        "\n"
      ],
      "metadata": {
        "id": "d7M3PuWtm53v"
      }
    },
    {
      "cell_type": "code",
      "source": [
        "number = int(input(\"enter a number:\"))\n",
        "if number % 2 == 0:\n",
        "  print(f\"{number}is even\")\n",
        "else:\n",
        "  print(f\"{number} is odd\")"
      ],
      "metadata": {
        "colab": {
          "base_uri": "https://localhost:8080/"
        },
        "id": "25Fb-nKvd15S",
        "outputId": "3e8d34ad-9e23-4f69-ac56-07bcf39f2653"
      },
      "execution_count": null,
      "outputs": [
        {
          "output_type": "stream",
          "name": "stdout",
          "text": [
            "enter a number:15\n",
            "15 is odd\n"
          ]
        }
      ]
    },
    {
      "cell_type": "markdown",
      "source": [
        "Task 3: Write a Python program that takes two numbers and checks if the first number is greater than or equal to the second number.\n",
        "\n",
        "Expected Input:\n",
        "\n",
        "Numbers: 8, 5"
      ],
      "metadata": {
        "id": "FQ4GdePWn28I"
      }
    },
    {
      "cell_type": "code",
      "source": [
        "firstnumber = int(input(\"enter a number:\"))\n",
        "secondnumber = int(input(\"enter a number:\"))\n",
        "if firstnumber >= secondnumber:\n",
        "   print(firstnumber,f\"is greater or equal to {secondnumber}\")\n",
        "else:\n",
        "   print(\"not greater or equal to \")\n"
      ],
      "metadata": {
        "colab": {
          "base_uri": "https://localhost:8080/"
        },
        "id": "r3sNjkn8lLlj",
        "outputId": "c2834eca-16e2-4d5b-f862-e0cd9be89487"
      },
      "execution_count": null,
      "outputs": [
        {
          "output_type": "stream",
          "name": "stdout",
          "text": [
            "enter a number:8\n",
            "enter a number:5\n",
            "8 is greater or equal to 5\n"
          ]
        }
      ]
    },
    {
      "cell_type": "markdown",
      "source": [
        "Task 4: Create a program that takes a temperature input in Celsius and converts it to Fahrenheit using a conditional statement.\n",
        "\n",
        "Expected Input:\n",
        "\n",
        "Temperature: 30"
      ],
      "metadata": {
        "id": "9w3pGJdzs3z-"
      }
    },
    {
      "cell_type": "code",
      "source": [
        "Temp_in_celcius = int(input(\"enter a number in celcius : \"))\n",
        "Temp_in_farenheit = (9/5*Temp_in_celcius)+32\n",
        "print(\"temperature in farenheit is\",Temp_in_farenheit)"
      ],
      "metadata": {
        "colab": {
          "base_uri": "https://localhost:8080/"
        },
        "id": "mfhoRV__g-Vp",
        "outputId": "46cf335f-80b0-47a8-cefa-7bb4d9acead3"
      },
      "execution_count": null,
      "outputs": [
        {
          "output_type": "stream",
          "name": "stdout",
          "text": [
            "enter a number in celcius : 30\n",
            "temperature in farenheit is 86.0\n"
          ]
        }
      ]
    },
    {
      "cell_type": "markdown",
      "source": [
        "Task 5: Write a Python program that takes a number and checks if it is positive, negative, or zero.\n",
        "\n",
        "Expected Input:\n",
        "\n",
        "Number: -7"
      ],
      "metadata": {
        "id": "-r3rH2pwuxR6"
      }
    },
    {
      "cell_type": "code",
      "source": [
        "number = int(input(\"enter a number:\"))\n",
        "if number > 0 :\n",
        "  print (number,\"is positive\")\n",
        "elif number < 0 :\n",
        "  print(number,\"is negative\")\n",
        "else:\n",
        "  print(number,\"is zero\")"
      ],
      "metadata": {
        "colab": {
          "base_uri": "https://localhost:8080/"
        },
        "id": "BIFex2hOgyTv",
        "outputId": "b47b9e6c-aeba-45be-f880-2bbcf5adadf0"
      },
      "execution_count": null,
      "outputs": [
        {
          "output_type": "stream",
          "name": "stdout",
          "text": [
            "enter a number:-7\n",
            "-7 is negative\n"
          ]
        }
      ]
    },
    {
      "cell_type": "markdown",
      "source": [],
      "metadata": {
        "id": "H-XiiIN7gyvJ"
      }
    },
    {
      "cell_type": "code",
      "source": [],
      "metadata": {
        "id": "5u8z6gZ1gjZI"
      },
      "execution_count": null,
      "outputs": []
    }
  ]
}